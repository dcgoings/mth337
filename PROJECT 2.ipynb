{
 "cells": [
  {
   "cell_type": "markdown",
   "metadata": {},
   "source": [
    "**Daniel Goings<br>\n",
    "dcgoings@buffalo.edu<br>\n",
    "MTH337 Project 2**"
   ]
  },
  {
   "cell_type": "code",
   "execution_count": 8,
   "metadata": {
    "collapsed": true
   },
   "outputs": [],
   "source": [
    "import math\n",
    "import operator\n",
    "import collections"
   ]
  },
  {
   "cell_type": "markdown",
   "metadata": {},
   "source": [
    "## INTRODUCTION"
   ]
  },
  {
   "cell_type": "markdown",
   "metadata": {},
   "source": [
    "In this project, we will identify severals ways of representing binary, decimal, and floating point numbers and standards, as well as functions, graphs, and equations to help reduce machine error and increase the precision of our numbers. We shall explore machine epsilon, which is the smallest floating point number that our machines can handle, discover the largest floating point number and its equivalent exponent that our machines are capable of, as well as binary to decimal and decimal to binary converstions, binary and decimal scientific notations and the IEEE 754 standards. Additionally, we will identify and utilize the Taylor series expansion to help reduce our loss of precision when handling incredibly small numbers, such as machine epsilon, and when it is valid and invalid to use for specific situations."
   ]
  },
  {
   "cell_type": "markdown",
   "metadata": {},
   "source": [
    "## PART 1"
   ]
  },
  {
   "cell_type": "markdown",
   "metadata": {},
   "source": [
    "#### PROBLEM 1: Write a Python function $findEpsilon$ which finds the machine epsilon by determining the smallest floating point number larger than 1 that can be stored in the machine.\n",
    "\n",
    "#### PSEUDOCODE:\n",
    "\n",
    "    1. Assign variable n to our exponent, starting with 1\n",
    "    2. Assign variable x to 2 to the power of negative n\n",
    "    3. Implement while loop\n",
    "        a. While 1 + our variable x does not equal 1:\n",
    "        b. increment n by 1\n",
    "        c. update variable x to new -n value\n",
    "        d. update output variable\n",
    "    4. While loop will finish when the machine cannot recognize a difference between 1+x and 1\n",
    "    5. Return output containing 1-n (the exponent) and 2**(1-n) (the machine epsilon value)"
   ]
  },
  {
   "cell_type": "code",
   "execution_count": 25,
   "metadata": {
    "collapsed": true
   },
   "outputs": [],
   "source": [
    "def findEpsilon():\n",
    "    \"\"\"\n",
    "    Returns the machine epsilon - spacing between 1 and the next represetable number.\n",
    "    \n",
    "    Keywords:\n",
    "        out: pair of values - first one is the exponent of machine epsilon, \n",
    "        second one is the corresponding value in decimal notation\n",
    "    \"\"\"\n",
    "    \n",
    "    n = 1\n",
    "    x = 2**(-n)\n",
    "    \n",
    "    #Keep reducing the exponent until we reach a value that is too small that the machine cannot tell\n",
    "    # the difference between new and old values\n",
    "    \n",
    "    while 1 + x != 1:\n",
    "        n += 1\n",
    "        x = 2 ** (-n)\n",
    "        out = 1-n, 2**(1-n)\n",
    "        \n",
    "    out = 1-n, 2**(1-n)\n",
    "    return out"
   ]
  },
  {
   "cell_type": "code",
   "execution_count": 26,
   "metadata": {},
   "outputs": [
    {
     "data": {
      "text/plain": [
       "(-52, 2.220446049250313e-16)"
      ]
     },
     "execution_count": 26,
     "metadata": {},
     "output_type": "execute_result"
    }
   ],
   "source": [
    "findEpsilon()"
   ]
  },
  {
   "cell_type": "markdown",
   "metadata": {},
   "source": [
    "#### PROBLEM 2: Write a Python function $findLargest$ which finds the largest floating point number that can be stored in the machine.\n",
    "\n",
    "#### PSEUDOCODE:\n",
    "\n",
    "    1. Assign variable n to our exponent, starting with 1\n",
    "    2. Implement while loop with try/catch\n",
    "        a. Try/Except allows us to continually run code until we run into an error\n",
    "        b. When we run into an error from our 'Try' code, we will then execute some final code under 'Except'\n",
    "    4. While we do not run into an error, assign x to 2^n+1\n",
    "    5. When we run into an error, return the last valid value for n"
   ]
  },
  {
   "cell_type": "code",
   "execution_count": 109,
   "metadata": {
    "collapsed": true
   },
   "outputs": [],
   "source": [
    "def findLargest():\n",
    "    \"\"\"\n",
    "    Returns the largest floating point number that can be stored on the machine\n",
    "    \n",
    "    Utilizes try and except to return the last value immediately after receiving an error \n",
    "    (i.e. going past the largest floating point number possible will trigger the error)\n",
    "    \n",
    "    In this function, we use a while loop, set 2 to the n'th power, where n = 1 and increments by 1 for each loop\n",
    "    \n",
    "    Output is a pair of values, first being the exponent for the largest floating point number,\n",
    "    second is the corresponding value in decimal notation\n",
    "    \"\"\"\n",
    "    \n",
    "    n = 1\n",
    "    \n",
    "    while True:\n",
    "        try:\n",
    "            x = 2.**n\n",
    "            n += 1\n",
    "        except: \n",
    "            return (n-1, math.pow(2, n-1))"
   ]
  },
  {
   "cell_type": "code",
   "execution_count": 110,
   "metadata": {},
   "outputs": [
    {
     "data": {
      "text/plain": [
       "(1023, 8.98846567431158e+307)"
      ]
     },
     "execution_count": 110,
     "metadata": {},
     "output_type": "execute_result"
    }
   ],
   "source": [
    "findLargest()"
   ]
  },
  {
   "cell_type": "markdown",
   "metadata": {},
   "source": [
    "#### PROBLEM 3: Print the base 2 exponent for both of these numbers"
   ]
  },
  {
   "cell_type": "code",
   "execution_count": 29,
   "metadata": {},
   "outputs": [
    {
     "data": {
      "text/plain": [
       "2.220446049250313e-16"
      ]
     },
     "execution_count": 29,
     "metadata": {},
     "output_type": "execute_result"
    }
   ],
   "source": [
    "    \"\"\"\n",
    "    Fairly simple, we verify our results above by using the math.pow() function \n",
    "    and setting 2 to our output above \n",
    "    \n",
    "    (i.e. 2 to the power of -52 in order to get our machine epsilon, and\n",
    "          2 to the power of 1023 in order to get our largest floating point number)\n",
    "    \"\"\"\n",
    "\n",
    "math.pow(2,-52)"
   ]
  },
  {
   "cell_type": "code",
   "execution_count": 30,
   "metadata": {},
   "outputs": [
    {
     "data": {
      "text/plain": [
       "8.98846567431158e+307"
      ]
     },
     "execution_count": 30,
     "metadata": {},
     "output_type": "execute_result"
    }
   ],
   "source": [
    "math.pow(2,1023)"
   ]
  },
  {
   "cell_type": "markdown",
   "metadata": {},
   "source": [
    "#### PROBLEM 4: Find the IEEE 754 representation of the numbers in the table. Pick any two integers for the last two rows. Then show that the results are correct using the Python built-in conversions for the binary and decimal types for at least one casae each for decimal to binary and binary to decimal.\n",
    "\n",
    "| Decimal | Binary      | Scientific Notation | Sign Bit | Exponent | Mantissa |\n",
    "|:-------:|:-----------:|:-------------------:|:--------:|:--------:|:--------:|\n",
    "| 9       |             |                     |          |          |          |\n",
    "|         | 101101      |                     |          |          |          |\n",
    "| 25      |             |                     |          |          |          |\n",
    "| 11.105  |             |                     |          |          |          |\n",
    "|         | 10011.01101 |                     |          |          |          |\n",
    "| 37      |             |                     |          |          |          |\n",
    "| 301     |             |                     |          |          |          |"
   ]
  },
  {
   "cell_type": "markdown",
   "metadata": {},
   "source": [
    "#### Binary $\\rightarrow$ Decimal & Decimal $\\rightarrow$ Binary\n",
    "\n",
    "Using the table below, we can easily break decimal numbers down into 0's and 1's via powers of 2, and therefore converting the number into binary. Additionally, we can do the opposite by matching the 1's and 0's of a binary number below their respective slots.\n",
    "\n",
    "\n",
    "| 128 | 64 | 32 | 16 | 8 | 4 | 2 | 1 |\n",
    "|:-------:|:-----------:|:-------------------:|:--------:|:--------:|:--------:|\n",
    "| 0 | 0 | 0 | 0 | 0 | 0 | 0 | 0 |"
   ]
  },
  {
   "cell_type": "markdown",
   "metadata": {},
   "source": [
    "For example, the number 9 can be broken down into $8 + 1$, and therefore, equal **1001** in binary.\n",
    "\n",
    "| 128 | 64 | 32 | 16 | 8 | 4 | 2 | 1 |\n",
    "|:-------:|:-----------:|:-------------------:|:--------:|:--------:|:--------:|\n",
    "| 0 | 0 | 0 | 0 | **1** | 0 | 0 | **1** |"
   ]
  },
  {
   "cell_type": "markdown",
   "metadata": {},
   "source": [
    "Similarly, the number **101101** in binary can be broken down the same way:\n",
    "\n",
    "| 128 | 64 | 32 | 16 | 8 | 4 | 2 | 1 |\n",
    "|:-------:|:-----------:|:-------------------:|:--------:|:--------:|:--------:|\n",
    "| 0   | 0  | **1**  | 0  | **1** | **1** | 0 | **1** |\n",
    "\n",
    "And therefore, $101101 = 32 + 8 + 4 + 1 = 45$"
   ]
  },
  {
   "cell_type": "markdown",
   "metadata": {},
   "source": [
    "Using this method, we can now convert the remaining decimal numbers to binary.\n",
    "\n",
    "The number 25 can be broken down into $16 + 8 + 1$, which equals **11001** in binary:\n",
    "\n",
    "| 128 | 64 | 32 | 16 | 8 | 4 | 2 | 1 |\n",
    "|:-------:|:-----------:|:-------------------:|:--------:|:--------:|:--------:|\n",
    "| 0 | 0 | 0 | **1** | **1** | 0 | 0 | **1** |\n",
    "\n",
    "The number 37 can be broken down into $32 + 4 + 1$, which equals **100101** in binary:\n",
    "\n",
    "| 128 | 64 | 32 | 16 | 8 | 4 | 2 | 1 |\n",
    "|:-------:|:-----------:|:-------------------:|:--------:|:--------:|:--------:|\n",
    "| 0 | 0 | **1** | 0 | 0 | **1** | 0 | **1** |\n",
    "\n",
    "The number 301 requires us to expand our table out to 256, allowing 301 to be broken down into $256 + 32 + 8 + 2 + 1$, which equals **100101101** in binary:\n",
    "\n",
    "| 256 | 128 | 64 | 32 | 16 | 8 | 4 | 2 | 1 |\n",
    "|:-------:|:-------:|:-----------:|:-------------------:|:--------:|:--------:|:--------:|\n",
    "| **1** | 0 | 0 | **1** | 0 | **1** | **1** | 0 | **1** |\n",
    "\n",
    "\n",
    "\n"
   ]
  },
  {
   "cell_type": "markdown",
   "metadata": {},
   "source": [
    "In order to solve for the number **11.105**, we solve the 11 as normal, and then repeatedly multiply the right side of the decimal by 2 until we reach a zero remainder.\n",
    "\n",
    "| 128 | 64 | 32 | 16 | 8 | 4 | 2 | 1 |\n",
    "|:-------:|:-----------:|:-------------------:|:--------:|:--------:|:--------:|\n",
    "| 0 | 0 | 0 | 0 | **1** | 0 | **1** | **1** |\n",
    "\n",
    "$.105\\, x\\, 2\\, =\\, 0\\, +\\, .210$<br>\n",
    "$.210\\, x\\, 2\\, =\\, 0\\, +\\, .420$<br>\n",
    "$.420\\, x\\, 2\\, =\\, 0\\, +\\, .840$<br>\n",
    "$.840\\, x\\, 2\\, =\\, 1\\, +\\, .680$<br>\n",
    "$.680\\, x\\, 2\\, =\\, 1\\, +\\, .360$<br>\n",
    "$.360\\, x\\, 2\\, =\\, 0\\, +\\, .720$<br>\n",
    "$.720\\, x\\, 2\\, =\\, 1\\, +\\, .440$<br>\n",
    "$.440\\, x\\, 2\\, =\\, 0\\, +\\, .880$<br>\n",
    "$.880\\, x\\, 2\\, =\\, 1\\, +\\, .760$<br>\n",
    "$.760\\, x\\, 2\\, =\\, 1\\, +\\, .520$<br>\n",
    "$.520\\, x\\, 2\\, =\\, 1\\, +\\, .040$<br>\n",
    "$.040\\, x\\, 2\\, =\\, 0\\, +\\, .080$<br>\n",
    "$.080\\, x\\, 2\\, =\\, 0\\, +\\, .160$<br>\n",
    "$.160\\, x\\, 2\\, =\\, 0\\, +\\, .320$<br>\n",
    "$.320\\, x\\, 2\\, =\\, 0\\, +\\, .640$<br>\n",
    "$.640\\, x\\, 2\\, =\\, 1\\, +\\, .280$<br>\n",
    "$.280\\, x\\, 2\\, =\\, 0\\, +\\, .560$<br>\n",
    "$.560\\, x\\, 2\\, =\\, 1\\, +\\, .120$<br>\n",
    "$.120\\, x\\, 2\\, =\\, 0\\, +\\, .240$<br>\n",
    "$.240\\, x\\, 2\\, =\\, 0\\, +\\, .480$<br>\n",
    "$.480\\, x\\, 2\\, =\\, 0\\, +\\, .960$<br>\n",
    "$.960\\, x\\, 2\\, =\\, 1\\, +\\, .920$<br>\n",
    "$.920\\, x\\, 2\\, =\\, 1\\, +\\, .840$<br>\n",
    "$.840\\, x\\, 2\\, =\\, 1\\, +\\, .680$ ...\n",
    "\n",
    "Unfortunately, at this point, we can see that .105 has a non-terminating, repeating binary form. Since we already saw .840 and .680 remainders, this will continue the pattern.<br> This means we can record **11.105** as the following binary number: **1011.000110101110000101...**"
   ]
  },
  {
   "cell_type": "markdown",
   "metadata": {},
   "source": [
    "In order to convert a decimal binary to decimal, such as **10011.01101** in our table, we solve our left side and right side of the decimal separately. We solve the left side as we have done multiple times already.\n",
    "\n",
    "| 128 | 64 | 32 | 16 | 8 | 4 | 2 | 1 |\n",
    "|:-------:|:-----------:|:-------------------:|:--------:|:--------:|:--------:|\n",
    "| 0 | 0 | 0 | **1** | 0 | 0 | **1** | **1** |\n",
    "\n",
    "For the fractional part, we fill our table first with **1/2**, and continue dividing by 2 (instead of multiplying by 2 like we did for the left side).\n",
    "\n",
    "| 1/2 | 1/4 | 1/8 | 1/16 | 1/32 | 1/64 | 1/128 |\n",
    "|:-------:|:-----------:|:-------------------:|:--------:|:--------:|\n",
    "| 0 | **1** | **1** | 0 | **1** | 0 | 0 |\n",
    "\n",
    "Adding the fractions, we get $.01101 = .25 + .125 + .03125 = .40625$\n",
    "\n",
    "We can conclude that $10011.01101 = 19.40625$ and update our table."
   ]
  },
  {
   "cell_type": "markdown",
   "metadata": {},
   "source": [
    "| Decimal | Binary      | Scientific Notation | Sign Bit | Exponent | Mantissa |\n",
    "|:-------:|:-----------:|:-------------------:|:--------:|:--------:|:--------:|\n",
    "| 9       | 1001                              |                     |          |          |          |\n",
    "| 45      | 101101                            |                     |          |          |          |\n",
    "| 25      | 11001                             |                     |          |          |          |\n",
    "| 11.105  | 1011.000110101110000101..         |                     |          |          |          |\n",
    "| 19.40625| 10011.01101                       |                     |          |          |          |\n",
    "| 37      | 100101                            |                     |          |          |          |\n",
    "| 301     | 100101101                         |                     |          |          |          |"
   ]
  },
  {
   "cell_type": "markdown",
   "metadata": {},
   "source": [
    "#### Scientific Notation"
   ]
  },
  {
   "cell_type": "markdown",
   "metadata": {},
   "source": [
    "Scientific notation can be broken down into several steps:\n",
    "    \n",
    "    1. Move decimal until there is only one non-zero digit to the left of it\n",
    "    2. Count the number of places you moved the decimal point\n",
    "    3. If you moved the decimal to the left, the exponent is positive\n",
    "        a. If you moved the decimal to the right, the exponent is negative\n",
    "    4. Use the form: number x (10 ^ exponent)"
   ]
  },
  {
   "cell_type": "markdown",
   "metadata": {},
   "source": [
    "For example, the decimal number 9 would keep the decimal place since 9 is the only non-zero digit to the left and we moved the decimal zero places (left or right).\n",
    "\n",
    "$9 = 9\\, x\\, 10^ 0$\n",
    "\n",
    "With our remaining whole numbers **45, 25, 37** and **301**, we move the decimal place to the left by one and increment the exponent by the same.\n",
    "\n",
    "$45 = 4.5\\, x\\, 10^1$\n",
    "\n",
    "$25 = 2.5\\, x\\, 10^1$\n",
    "\n",
    "$37 = 3.7\\, x\\, 10^1$\n",
    "\n",
    "$301 = 3.01\\, x\\, 10^2$\n",
    "\n",
    "And finally, for our two decimals **11.105** and **19.40625**, we still move the decimal place to the left by one, increment the exponent, and re-write it.\n",
    "\n",
    "$11.105 = 1.1105\\, x\\, 10^1$\n",
    "\n",
    "$19.40625 = 1.940625\\, x\\, 10^1$"
   ]
  },
  {
   "cell_type": "markdown",
   "metadata": {},
   "source": [
    "| Decimal | Binary      | Scientific Notation | Binary Scientific Notation | Sign Bit | Exponent | Mantissa |\n",
    "|:-------:|:-----------:|:-------------------:|:--------:|:--------:|:--------:|\n",
    "| 9       | 1001                              | $9\\, x\\, 10^ 0$       |          |          |          |          |\n",
    "| 45      | 101101                            | $4.5\\, x\\, 10^1$      |          |          |          |          |\n",
    "| 25      | 11001                             | $2.5\\, x\\, 10^1$      |          |          |          |          |\n",
    "| 11.105  | 1011.000110101110000101..         | $1.1105\\, x\\, 10^1$   |          |          |          |          |\n",
    "| 19.40625| 10011.01101                       | $1.940625\\, x\\, 10^1$ |          |          |          |          |\n",
    "| 37      | 100101                            | $3.7\\, x\\, 10^1$      |          |          |          |          |\n",
    "| 301     | 100101101                         | $3.01\\, x\\, 10^2$     |          |          |          |          |"
   ]
  },
  {
   "cell_type": "markdown",
   "metadata": {},
   "source": [
    "Binary Scientific Notation is done a very similar way, with the exception being that we replace the 10 with a 2, but still count the decimal places the same. For example, **9** in binary is **1001**, and would be written as $1.001\\, x\\, 2^3$. We can now calculate the binary scientific notation for our remaining numbers:\n",
    "\n",
    "$45 = 101101 = 1.01101\\, x\\, 2^5$\n",
    "\n",
    "$25 = 11001 = 1.1001\\, x\\, 2^4$\n",
    "\n",
    "$37 = 100101 = 1.00101\\, x\\, 2^5$\n",
    "\n",
    "$301 = 100101101 = 1.00101101\\, x\\, 2^8$\n",
    "\n",
    "$11.105 = 1011.000110101110000101 = 1.011000110101110000101\\, x\\, 2^3$\n",
    "\n",
    "$19.40625 = 10011.01101 = 1.001101101\\, x\\, 2^4$"
   ]
  },
  {
   "cell_type": "markdown",
   "metadata": {},
   "source": [
    "| Decimal | Binary      | Scientific Notation | Binary Scientific Notation | Sign Bit | Exponent | Mantissa |\n",
    "|:-------:|:-----------:|:-------------------:|:--------:|:--------:|:--------:|\n",
    "| 9       | 1001                              | $9\\, x\\, 10^ 0$       | $1.001\\, x\\, 2^3$         |          |          |          |\n",
    "| 45      | 101101                            | $4.5\\, x\\, 10^1$      | $1.01101\\, x\\, 2^5$          |          |          |          |\n",
    "| 25      | 11001                             | $2.5\\, x\\, 10^1$      | $1.1001\\, x\\, 2^4$         |          |          |          |\n",
    "| 11.105  | 1011.000110101110000101..         | $1.1105\\, x\\, 10^1$   | $1.011000110101110000101x2^3$         |          |          |          |\n",
    "| 19.40625| 10011.01101                       | $1.940625\\, x\\, 10^1$ | $1.001101101\\, x\\, 2^4$         |          |          |          |\n",
    "| 37      | 100101                            | $3.7\\, x\\, 10^1$      | $1.00101\\, x\\, 2^5$         |          |          |          |\n",
    "| 301     | 100101101                         | $3.01\\, x\\, 10^2$     | $1.00101101\\, x\\, 2^8$         |          |          |          |"
   ]
  },
  {
   "cell_type": "markdown",
   "metadata": {},
   "source": [
    "#### Floating Point Representation\n",
    "\n",
    "Now for the fun part! Using the information provided from the binary scientific notation, we can solve the remaining sign bit, exponent, and mantissa for our values.  While floating point representation can utilize both single and double precision formats (32 vs 64-bits), for the purpose of this research project we will limit ourselves to 32-bit. These three items, sign bit, exponent, and mantissa, make up the overall 32-bit notation of a number.\n"
   ]
  },
  {
   "cell_type": "markdown",
   "metadata": {},
   "source": [
    "#### Sign Bit\n",
    "Starting with the sign bit, this is one bit long and is used to indicate whether our number is positive or negative. If the number is positive, the sign bit is 0. If the number is negative, the sign bit is 1. Since all of our numbers are positive, all of our sign bits for this exercise are 0.\n",
    "\n",
    "| Decimal | Binary      | Scientific Notation | Binary Scientific Notation | Sign Bit | Exponent | Mantissa |\n",
    "|:-------:|:-----------:|:-------------------:|:--------:|:--------:|:--------:|\n",
    "| 9       | 1001                  | $9\\, x\\, 10^ 0$       | $1.001\\, x\\, 2^3$            | 0 |          |          |\n",
    "| 45      | 101101                | $4.5\\, x\\, 10^1$      | $1.01101\\, x\\, 2^5$          | 0 |          |          |\n",
    "| 25      | 11001                 | $2.5\\, x\\, 10^1$      | $1.1001\\, x\\, 2^4$           | 0 |          |          |\n",
    "| 11.105  | 1011.000110101110000101.. | $1.1105\\, x\\, 10^1$   | $1.011000110101110000101x2^3$| 0 |      |          |\n",
    "| 19.40625| 10011.01101           | $1.940625\\, x\\, 10^1$ | $1.001101101\\, x\\, 2^4$      | 0 |          |          |\n",
    "| 37      | 100101                | $3.7\\, x\\, 10^1$      | $1.00101\\, x\\, 2^5$          | 0 |          |          |\n",
    "| 301     | 100101101             | $3.01\\, x\\, 10^2$     | $1.00101101\\, x\\, 2^8$       | 0 |          |          |"
   ]
  },
  {
   "cell_type": "markdown",
   "metadata": {},
   "source": [
    "#### Exponent\n",
    "For the exponent column, this will be represented by eight bits and is calculated by taking the the exponent given in binary scientific notation and adding it to 127. This number is then converted to binary and represents the exponent portion of our table. \n",
    "\n",
    "For example, decimal number 9 in binary scientific notation is represented by $2^3$, and therefore, an exponent of 3. Added to 127, we are given 130, which equals 10000010 in binary. This equals our exponent. Since all of our exponents in binary scientific notation are either a 3, 4, 5 or 8, we only need to solve those four.\n",
    "\n",
    "| BSN | Exponent | +127 | Binary |\n",
    "|:---------------:|:--------:|:----:|:------:|\n",
    "| $2^3$ | 3 | 130 | 10000010 |\n",
    "| $2^4$ | 4 | 131 | 10000011 |\n",
    "| $2^5$ | 5 | 132 | 10000100 |\n",
    "| $2^8$ | 8 | 135 | 10000111 |"
   ]
  },
  {
   "cell_type": "markdown",
   "metadata": {},
   "source": [
    "| Decimal | Binary      | Scientific Notation | Binary Scientific Notation | Sign Bit | Exponent | Mantissa |\n",
    "|:-------:|:-----------:|:-------------------:|:--------:|:--------:|:--------:|\n",
    "| 9       | 1001                  | $9\\, x\\, 10^ 0$       | $1.001\\, x\\, 2^3$            | 0 | 10000010 |          |\n",
    "| 45      | 101101                | $4.5\\, x\\, 10^1$      | $1.01101\\, x\\, 2^5$          | 0 | 10000100 |          |\n",
    "| 25      | 11001                 | $2.5\\, x\\, 10^1$      | $1.1001\\, x\\, 2^4$           | 0 | 10000011 |          |\n",
    "| 11.105  | 1011.000110101110000101.. | $1.1105\\, x\\, 10^1$   | $1.011000110101110000101x2^3$| 0 |10000010|          |\n",
    "| 19.40625| 10011.01101           | $1.940625\\, x\\, 10^1$ | $1.001101101\\, x\\, 2^4$      | 0 | 10000011 |          |\n",
    "| 37      | 100101                | $3.7\\, x\\, 10^1$      | $1.00101\\, x\\, 2^5$          | 0 | 10000100 |          |\n",
    "| 301     | 100101101             | $3.01\\, x\\, 10^2$     | $1.00101101\\, x\\, 2^8$       | 0 | 10000111 |          |"
   ]
  },
  {
   "cell_type": "markdown",
   "metadata": {},
   "source": [
    "#### Mantissa\n",
    "\n",
    "Solving for the mantissa is our final piece of the puzzle. The mantissa is 23-bits long and refers to the remaining numerical information to the left of the $2^x$ term. In order to calculate the mantissa, we simply take all of the digits to the right of the decimal and add trailing zeros to make up the remaining 23 missing bits. \n",
    "\n",
    "For example, decimal number 9 in binary scientific notation begins with **1.001**, so we simply take the digits to the right of the decimal, 001, and this represents the first three digits of the mantissa. We then fill the remaining bits with 0's. Therefore, our mantissa for the decimal number 9 is equal to 00100000000000000000000.\n",
    "\n",
    "| Right of the decimal point | With trailing zeros |\n",
    "|:--------------------------:|:-------------------:|\n",
    "| 01101                      | 01101000000000000000000 |\n",
    "| 1001                       | 10010000000000000000000 |\n",
    "| 011000110101110000101      | 01100011010111000010100 |\n",
    "| 001101101                  | 00110110100000000000000 |\n",
    "| 00101                      | 00101000000000000000000 |\n",
    "| 00101101                   | 00101101000000000000000 |"
   ]
  },
  {
   "cell_type": "markdown",
   "metadata": {},
   "source": [
    "#### Finished Table"
   ]
  },
  {
   "cell_type": "markdown",
   "metadata": {},
   "source": [
    "| Decimal | Binary      | Scientific Notation | Binary Scientific Notation | Sign Bit | Exponent | Mantissa |\n",
    "|:-------:|:-----------:|:-------------------:|:--------:|:--------:|:--------:|\n",
    "| 9       | 1001                  | $9\\, x\\, 10^ 0$       | $1.001\\, x\\, 2^3$            | 0 | 10000010 | 00100000000000000000000 |\n",
    "| 45      | 101101                | $4.5\\, x\\, 10^1$      | $1.01101\\, x\\, 2^5$          | 0 | 10000100 | 01101000000000000000000 |\n",
    "| 25      | 11001                 | $2.5\\, x\\, 10^1$      | $1.1001\\, x\\, 2^4$           | 0 | 10000011 | 10010000000000000000000 |\n",
    "| 11.105  | 1011.000110101110000101.. | $1.1105\\, x\\, 10^1$   | $1.011000110101110000101x2^3$| 0 |10000010| 01100011010111000010100 |\n",
    "| 19.40625| 10011.01101           | $1.940625\\, x\\, 10^1$ | $1.001101101\\, x\\, 2^4$      | 0 | 10000011 | 00110110100000000000000 |\n",
    "| 37      | 100101                | $3.7\\, x\\, 10^1$      | $1.00101\\, x\\, 2^5$          | 0 | 10000100 | 00101000000000000000000 |\n",
    "| 301     | 100101101             | $3.01\\, x\\, 10^2$     | $1.00101101\\, x\\, 2^8$       | 0 | 10000111 | 00101101000000000000000 |"
   ]
  },
  {
   "cell_type": "markdown",
   "metadata": {},
   "source": [
    "#### Verification\n",
    "\n",
    "As instructed, we shall now verify a few cases of each bin-to-dec and dec-to-bin conversions using built-in Python functions."
   ]
  },
  {
   "cell_type": "code",
   "execution_count": 31,
   "metadata": {},
   "outputs": [
    {
     "name": "stdout",
     "output_type": "stream",
     "text": [
      "1001 in binary is equal to 9 in decimal.\n",
      "101101 in binary is equal to 45 in decimal.\n"
     ]
    }
   ],
   "source": [
    "# Converts binary integer to base 10 integer\n",
    "\n",
    "print('1001 in binary is equal to %s in decimal.' % (int('1001', base=2)))\n",
    "print('101101 in binary is equal to %s in decimal.' % (int('101101', base=2)))"
   ]
  },
  {
   "cell_type": "code",
   "execution_count": 32,
   "metadata": {},
   "outputs": [
    {
     "name": "stdout",
     "output_type": "stream",
     "text": [
      "9 in decimal is equal to 0b1001 in binary.\n",
      "45 in decimal is equal to 0b101101 in binary.\n"
     ]
    }
   ],
   "source": [
    "# Convert base 10 integer to binary integer\n",
    "\n",
    "print('9 in decimal is equal to %s in binary.' % (bin(9)))\n",
    "print('45 in decimal is equal to %s in binary.' % (bin(45)))"
   ]
  },
  {
   "cell_type": "markdown",
   "metadata": {},
   "source": [
    "#### EXTRA: What about zero? How is the number zero displayed in floating point representation?\n",
    "\n",
    "Zero is considered a \"special case\", in which every bit is 0 with the sign bit being irrelevant; meaning we can technically get +0 and -0 by assigning the sign bit as 0 or 1, respectively, with all remaining numbers (in the exponent and mantissa) set to zero!\n",
    "\n",
    "#### EXTRA: So zero is represented by a zero exponent, how do you represent the number $1.0\\, x\\, 2 ^ 0$?!\n",
    "\n",
    "In this case, you must recall that there is another way to obtain zero for an exponent. Working backwards, instead of adding 127 to our exponent, we now subtract 127 from the exponent. For example, if we were to assign our exponent to 127 (i.e. $01111111$), when we subtract 127 from 127, we get a zero exponent without explicitly writing $00000000$ as our exponent! This is how we get a zero exponent in the notation for $1.0\\, x \\, 2^0$."
   ]
  },
  {
   "cell_type": "markdown",
   "metadata": {
    "collapsed": true
   },
   "source": [
    "#### Integer to IEEE 754 Python Function\n",
    "\n",
    "As a little extra, using all of the information given above, we can create a quick function that will return the sign bit, exponent, and mantissa for a given **base 10 integer**.\n",
    "\n",
    "#### PSEUDOCODE:\n",
    "\n",
    "    1. Assign variable 'result' that holds all three values of sign bit, exponent, and mantissa\n",
    "    2. Calculate sign bit\n",
    "        a. Convert our integer to string, check first char\n",
    "        b. If first char is a digit --> Integer is positive --> Sign bit is 0\n",
    "        c. If first char is a '-' --> Integer is negative --> Sign bit is 1\n",
    "        d. Add sign bit to 'result'\n",
    "    3. Calculate exponent\n",
    "        a. How to calculate exponent was discussed previously while filling out the table (length of binary - 1 + 127).\n",
    "        b. Use bin() and slice functions to retrieve correct values for the exponent\n",
    "        c. Convert this exponent to binary\n",
    "        d. Add exponent to 'result'\n",
    "    4. Calculate mantissa\n",
    "        a. How to calculate mantissa was discussed previously while filling out the table (all numbers right of leading 1 + \n",
    "            trailing zeros)\n",
    "        b. While the length of the mantissa is < 23 digits, add trailing zeros\n",
    "        c. Add mantissa to result\n",
    "    5. Join all values in list 'result' and return"
   ]
  },
  {
   "cell_type": "code",
   "execution_count": 182,
   "metadata": {},
   "outputs": [
    {
     "name": "stdout",
     "output_type": "stream",
     "text": [
      "Converting integer 43432 to IEEE 754 format\n",
      "Sign Bit: 0\n",
      "Exponent in decimal: 142\n",
      "Exponent in binary: 10001110\n",
      "Mantissa: 01010011010100000000000\n",
      "Result: ['0', '10001110', '01010011010100000000000']\n",
      "Final answer: 01000111001010011010100000000000\n"
     ]
    }
   ],
   "source": [
    "\"\"\"\n",
    "Using the functions sign_bit() and exp_mantissa(), \n",
    "we can easily convert an integer to IEEE 754 floating point representation.\n",
    "\n",
    "Keywords: \n",
    "    result: a list to keep track of the sign bit, exponent, and mantissa as they are calculated\n",
    "    num_str: convert our integer to string for easier manipulation\n",
    "    bit: our final sign bit value\n",
    "    exponent: our final exponent value\n",
    "    bin_exponent: our final exponent value in binary form\n",
    "    mantissa: our final mantissa value, with and without trailing zeros\n",
    "    binary: binary representation of our number, \n",
    "        typically coupled with slicing in order to remove the '0b' at the beginning of each conversion\n",
    "    \n",
    "\"\"\"\n",
    "\n",
    "result = []\n",
    "\n",
    "def sign_bit(num):\n",
    "    print(\"Converting integer %s to IEEE 754 format\" % num)\n",
    "    \n",
    "    # converts our integer value to a string\n",
    "    num_str = str(num)\n",
    "    \n",
    "    # since we have converted our integer to a string, we can easily check if the number is positive or negative by\n",
    "    #    looking at the first char in the string (i.e. digit vs '-')\n",
    "    \n",
    "    if num_str[0] != '-':\n",
    "        bit = '0'\n",
    "        print(\"Sign Bit: %s\" % bit)\n",
    "        result.append(bit)\n",
    "        return bit\n",
    "    \n",
    "    else:\n",
    "        bit = '1'\n",
    "        print(\"Sign Bit: %s\" % bit)\n",
    "        result.append(bit)\n",
    "        return bit\n",
    "    \n",
    "def exp_mantissa(num):\n",
    "    \n",
    "    # checks whether our value is negative or positive, which will tell us how many indexes we need to slice\n",
    "    #    when converting our number to binary (i.e. '0b' vs '-0b')\n",
    "    if sign_bit(num) == '0': \n",
    "        binary = (bin(num)[2:])\n",
    "    else: \n",
    "        binary = (bin(num)[3:])\n",
    "    \n",
    "    # calculate the exponent in decimal by adding the 127 bias\n",
    "    #    then calculate the 8-bit exponent through binary conversion\n",
    "    exponent = len(binary) - 1 + 127\n",
    "    bin_exp = (bin(exponent)[2:])\n",
    "    print(\"Exponent in decimal: %s\" % exponent)\n",
    "    print(\"Exponent in binary: %s\" % bin_exp)\n",
    "    result.append(bin_exp)\n",
    "    \n",
    "    # calculate the 23-bit mantissa by removing/slicing the leading 1\n",
    "    mantissa = list(binary[1:])\n",
    "    \n",
    "    # add trailing zeros until mantissa length = 23\n",
    "    while len(mantissa) < 23:\n",
    "        mantissa.append('0')\n",
    "        \n",
    "    mantissa = ''.join(mantissa)\n",
    "    print(\"Mantissa: %s\" % mantissa)\n",
    "    result.append(mantissa)\n",
    "    \n",
    "    print(\"Result: %s\" % result)\n",
    "    \n",
    "    # join all values in our 'result' list in order to get the final IEEE 754 representation\n",
    "    ieee754 = ''.join(result)\n",
    "    print(\"Final answer: %s\" % ieee754)\n",
    "    \n",
    "exp_mantissa(43432)"
   ]
  },
  {
   "cell_type": "markdown",
   "metadata": {},
   "source": [
    "## BONUS FUNCTIONS: Binary -> Decimal, Decimal -> Binary, and Binary Adder\n",
    "\n",
    "#### Binary $\\rightarrow$ Decimal Function\n",
    "\n",
    "#### PSEUDOCODE:\n",
    "\n",
    "    1. Assign variable 'result' to add our answer to\n",
    "    1. Convert binary number from integer to string\n",
    "    2. Convert string containing binary number to list\n",
    "    3. Reverse list containing string\n",
    "    4. List indices exactly match values required for binary to decimal conversion\n",
    "        a. example: at index 5, 1 * 2^5 = 32\n",
    "    5. Implement for loop that iterates through list containing our string\n",
    "        a. With knowledge of #4, we can iterate through our list and retrieve the values assigned to each digit\n",
    "        b. Add each iteration to 'result'\n",
    "    6. Return 'result'"
   ]
  },
  {
   "cell_type": "code",
   "execution_count": 34,
   "metadata": {},
   "outputs": [
    {
     "name": "stdout",
     "output_type": "stream",
     "text": [
      "List form: ['1', '0', '1', '1', '0', '0']\n",
      "101100 in decimal is 44\n"
     ]
    }
   ],
   "source": [
    "def bin2dec(n):\n",
    "    \"\"\"\n",
    "    Converts an integer value from binary to decimal\n",
    "    \n",
    "    Keywords:\n",
    "        result: our final integer value\n",
    "        temp: string representation of our binary number\n",
    "        binList: list representation of our 'temp' string\n",
    "    \"\"\"\n",
    "    \n",
    "    result = 0\n",
    "    temp = str(n)\n",
    "\n",
    "    # converts the string representation of our number to a list, then reverses it\n",
    "    binList = [i for i in temp]\n",
    "    print(\"List form: %s\" % binList)\n",
    "    binList.reverse()\n",
    "\n",
    "    # since we reversed our string, our index value exactly matches the appropriate power needed for the conversion\n",
    "    #    i.e. at index 5, 1*2^5 = 32\n",
    "    # continually add calculations to result\n",
    "    \n",
    "    for x in range(0, len(binList)):\n",
    "        result += (2**x) * int(binList[x])\n",
    "        \n",
    "    print(\"%s in decimal is %s\" % (n, result))\n",
    "\n",
    "bin2dec('101100')"
   ]
  },
  {
   "cell_type": "markdown",
   "metadata": {},
   "source": [
    "#### Decimal $\\rightarrow$ Binary Function\n",
    "\n",
    "#### PSEUDOCODE:\n",
    "\n",
    "    1. Assign variable 'binList' to empty list\n",
    "        a. This list will contain our final binary representation of our number\n",
    "    2. Assign variable 'temp' to our decimal number\n",
    "    3. While temp is greater than 0\n",
    "        a. Append the remainder from temp mod 2 to binList\n",
    "        b. Update temp value to temp / 2\n",
    "        c. Continue until temp is not greater than 0\n",
    "    5. Reverse our list containing our binary number since the binary numbers are added in reverse\n",
    "    6. Join and return 'result'"
   ]
  },
  {
   "cell_type": "code",
   "execution_count": 35,
   "metadata": {},
   "outputs": [
    {
     "name": "stdout",
     "output_type": "stream",
     "text": [
      "44 in binary is 101100\n",
      "List form: [1, 0, 1, 1, 0, 0]\n",
      "Verify using built-in python binary function: 0b101100\n"
     ]
    }
   ],
   "source": [
    "def dec2bin(n):\n",
    "    \"\"\"\n",
    "    Converts an integer value from decimal to binary by continually dividing our number by 2 and adding the remainder to\n",
    "    our result as long as the number is greater than 0.\n",
    "    \n",
    "    Keywords:\n",
    "        result: our final binary value\n",
    "        temp: temporary variable for our integer\n",
    "        binList: list representation of our binary number\n",
    "    \"\"\"\n",
    "    binList = []\n",
    "    temp = n\n",
    "\n",
    "    # while our number is greater than zero, append the answer of our num mod 2, and update our temp variable\n",
    "    while temp > 0:\n",
    "        binList.append(temp%2)\n",
    "        temp = temp//2\n",
    "        \n",
    "    # since the above gives us our result in the opposite direction, we must reverse and then join the list for our answer\n",
    "    \n",
    "    temp = binList[::-1]\n",
    "    result = (''.join(str(n) for n in temp))\n",
    "    print(\"%s in binary is %s\" % (n, result))\n",
    "    print(\"List form: %s\" % temp)\n",
    "    print(\"Verify using built-in python binary function: %s\" % (bin(n)))\n",
    "    \n",
    "dec2bin(44)"
   ]
  },
  {
   "cell_type": "markdown",
   "metadata": {},
   "source": [
    "#### Binary Addition Function\n",
    "\n",
    "#### PSEUDOCODE:\n",
    "\n",
    "    1. Setup and verification code not included in pseudocode, see below\n",
    "    2. Assign variables to track our carry integer and result list\n",
    "    3. Store both binary strings as lists; store length of lists as ints\n",
    "    4. Compare lengths of our list containing our binary strings\n",
    "        a. Insert leading zeros into the shorter list so that the lengths are equal\n",
    "    5. Reverse lists to assist in addition\n",
    "    6. Implement if/elif statements for each possible outcome of adding our binary string indices and carry value\n",
    "        a. Only four possible outcomes: all three numbers can only equal 0, 1, 2, or 3\n",
    "        b. Append sum to result, update carry accordingly\n",
    "    7. Undo reverse of our result\n",
    "    8. Remove leading zeros\n",
    "    9. Return result"
   ]
  },
  {
   "cell_type": "code",
   "execution_count": 181,
   "metadata": {},
   "outputs": [
    {
     "name": "stdout",
     "output_type": "stream",
     "text": [
      "-----\n",
      "We are given the following two binary strings: 111111 and 0011011\n",
      "In base 10, these numbers equal 63 and 27 and when added together equal 90\n",
      "Using this binary adder, we should expect our result to equal 1011010\n",
      "\n",
      "The result from our binary adder is 1011010\n",
      "Verified by built-in function, 1011010 equals 90\n",
      "\n",
      "-----\n",
      "We are given the following two binary strings: 110000 and 1\n",
      "In base 10, these numbers equal 48 and 1 and when added together equal 49\n",
      "Using this binary adder, we should expect our result to equal 110001\n",
      "\n",
      "The result from our binary adder is 110001\n",
      "Verified by built-in function, 110001 equals 49\n",
      "\n",
      "-----\n",
      "We are given the following two binary strings: 000110 and 100110\n",
      "In base 10, these numbers equal 6 and 38 and when added together equal 44\n",
      "Using this binary adder, we should expect our result to equal 101100\n",
      "\n",
      "The result from our binary adder is 101100\n",
      "Verified by built-in function, 101100 equals 44\n",
      "\n",
      "-----\n",
      "We are given the following two binary strings: 0 and 1\n",
      "In base 10, these numbers equal 0 and 1 and when added together equal 1\n",
      "Using this binary adder, we should expect our result to equal 1\n",
      "\n",
      "The result from our binary adder is 1\n",
      "Verified by built-in function, 1 equals 1\n",
      "\n"
     ]
    }
   ],
   "source": [
    "def adder(binary1, binary2):\n",
    "    \n",
    "    \"\"\"\n",
    "    Adds two binary strings together by converting to a list, adding leading zeros to match lengths to assist in addition,\n",
    "     reverse the lists and continue to the addition. \n",
    "      \n",
    "    Only four sums are possible when adding binary strings together: 0, 1, 2 or 3. We use this information to implement\n",
    "      if and elif statements to obtain our result and update the carry values\n",
    "      \n",
    "    The first portion of this code is used to set up and verify our problem and our expected results.\n",
    "     The actual implementation of our binary adder does not utilize this information in any way, and we do not use any\n",
    "     built-in functions that directly assist in the conversion between binary to decimal or vice versa.\n",
    "    \n",
    "    Keywords:\n",
    "        carry: variable that keeps track of our carry when our binary addition is (1+1) or (1+1+1)\n",
    "        result: list variable that contains our final sums\n",
    "        bin_list1: list containing our first binary string\n",
    "        bin_list2: list containing our second binary string\n",
    "        bin_len1: variable storing the length of our first binary string\n",
    "        bin_len2: variable storing the length of our second binary string\n",
    "    \"\"\"\n",
    "    \n",
    "    ### THE BELOW CODE AND PRINT STATEMENTS ARE FOR SETUP AND VERIFICATION PURPOSES ONLY ###\n",
    "    \n",
    "    bin1_to_dec = int(binary1, base=2)\n",
    "    bin2_to_dec = int(binary2, base=2)\n",
    "    sum_to_dec = bin1_to_dec + bin2_to_dec\n",
    "    sum_in_bin = bin(sum_to_dec)\n",
    "    \n",
    "    print(\"-----\")\n",
    "    print(\"We are given the following two binary strings: %s and %s\" % (binary1, binary2))\n",
    "    print(\"In base 10, these numbers equal %s and %s and when added together equal %s\" % \n",
    "          (bin1_to_dec, bin2_to_dec, sum_to_dec))\n",
    "    print(\"Using this binary adder, we should expect our result to equal %s\\n\" % sum_in_bin[2:])\n",
    "    \n",
    "    ### END OF SETUP AND VERIFICATION ###\n",
    "    \n",
    "    # carry tracker and result variables\n",
    "    \n",
    "    carry = 0\n",
    "    result = []\n",
    "    \n",
    "    # convert our binary strings to lists and create length variables for our lists\n",
    "    \n",
    "    bin_list1 = [i for i in binary1]\n",
    "    bin_len1 = len(bin_list1)    \n",
    "    \n",
    "    bin_list2 = [i for i in binary2]\n",
    "    bin_len2 = len(bin_list2)\n",
    "    \n",
    "    # check which string is longer \n",
    "    # insert leading zeros to the shorter binary string to assist with addition\n",
    "    \n",
    "    if bin_len1 < bin_len2:\n",
    "        while len(bin_list1) < len(bin_list2):\n",
    "            bin_list1.insert(0, '0')\n",
    "    \n",
    "    elif bin_len2 < bin_len1:\n",
    "        while len(bin_list2) < len(bin_list1):\n",
    "            bin_list2.insert(0, '0')\n",
    "            \n",
    "    # reverse lists to assist with addition from left to right instead of right to left\n",
    "    \n",
    "    bin_list1.reverse()\n",
    "    bin_list2.reverse()\n",
    "    \n",
    "    # iterate through the length of our binary strings\n",
    "    # implement four if/elif statements, one for each possible outcome when adding our binary numbers\n",
    "    # only possible outcomes are sums of 0, 1, 2, or 3; append outcomes to result, update carry variables accordingly\n",
    "    \n",
    "    for x in range(0, len(bin_list1)):\n",
    "        if (int(bin_list1[x]) + int(bin_list2[x]) + carry == 0):\n",
    "            result.append('0')\n",
    "            \n",
    "        elif (int(bin_list1[x]) + int(bin_list2[x]) + carry == 1):\n",
    "            result.append('1')\n",
    "            carry = 0\n",
    "            \n",
    "        elif (int(bin_list1[x]) + int(bin_list2[x]) + carry == 2):\n",
    "            result.append('0')\n",
    "            carry = 1\n",
    "            \n",
    "        elif (int(bin_list1[x]) + int(bin_list2[x]) + carry == 3):\n",
    "            result.append('1')\n",
    "            carry = 1\n",
    "            \n",
    "    # undo our earlier reverse function, eliminate leading zeros, and join our 'result'\n",
    "            \n",
    "    result.reverse()\n",
    "    \n",
    "    while result[0] == '0':\n",
    "        result = result[1:]\n",
    "    \n",
    "    result = ''.join(result)\n",
    "    \n",
    "    print(\"The result from our binary adder is %s\" % result)\n",
    "    print(\"Verified by built-in function, %s equals %s\\n\" % (result, int(result, base=2)))\n",
    "    \n",
    "#testcases\n",
    "adder('111111', '0011011')\n",
    "adder('110000', '1')\n",
    "adder('000110', '100110')\n",
    "adder('0', '1')"
   ]
  },
  {
   "cell_type": "markdown",
   "metadata": {},
   "source": [
    "## PART 2"
   ]
  },
  {
   "cell_type": "markdown",
   "metadata": {},
   "source": [
    "In part two, we will quantify errors in calculating values of functions that are error prone due to the limits of machine precision. As demonstrated in class, we will plot the function $ g(x) = \\frac{log(1+x)}{x}$ for different ranges of $x$. Below, we will look at $1e-1$, $1e-7$, and $1e-15$ (approaching machine epsilon) in order to show how machine precision becomes an issue as we approach zero."
   ]
  },
  {
   "cell_type": "code",
   "execution_count": 36,
   "metadata": {
    "scrolled": true
   },
   "outputs": [
    {
     "data": {
      "text/plain": [
       "[<matplotlib.lines.Line2D at 0x25a96943d68>]"
      ]
     },
     "execution_count": 36,
     "metadata": {},
     "output_type": "execute_result"
    },
    {
     "data": {
      "image/png": "[encoded data removed]",
      "text/plain": [
       "<matplotlib.figure.Figure at 0x25a96908630>"
      ]
     },
     "metadata": {},
     "output_type": "display_data"
    }
   ],
   "source": [
    "import numpy as np\n",
    "import matplotlib.pyplot as plt\n",
    "%matplotlib inline\n",
    "\n",
    "end = 1e-1\n",
    "x = np.linspace(-end, end)\n",
    "y = np.where(x==0, 1.0, np.log(1+x)/x)\n",
    "plt.xlabel('x', fontsize=20)\n",
    "plt.ylabel('f(x)', fontsize=20)\n",
    "plt.plot(x, y)"
   ]
  },
  {
   "cell_type": "code",
   "execution_count": 37,
   "metadata": {},
   "outputs": [
    {
     "data": {
      "text/plain": [
       "[<matplotlib.lines.Line2D at 0x25a97c3f2e8>]"
      ]
     },
     "execution_count": 37,
     "metadata": {},
     "output_type": "execute_result"
    },
    {
     "data": {
      "image/png": "[encoded data removed]",
      "text/plain": [
       "<matplotlib.figure.Figure at 0x25a97c3f6a0>"
      ]
     },
     "metadata": {},
     "output_type": "display_data"
    }
   ],
   "source": [
    "end = 1e-7\n",
    "x = np.linspace(-end, end)\n",
    "y = np.where(x==0, 1.0, np.log(1+x)/x)\n",
    "plt.xlabel('x', fontsize=20)\n",
    "plt.ylabel('f(x)', fontsize=20)\n",
    "plt.plot(x, y)"
   ]
  },
  {
   "cell_type": "code",
   "execution_count": 38,
   "metadata": {},
   "outputs": [
    {
     "data": {
      "text/plain": [
       "[<matplotlib.lines.Line2D at 0x25a97dde358>]"
      ]
     },
     "execution_count": 38,
     "metadata": {},
     "output_type": "execute_result"
    },
    {
     "data": {
      "image/png": "[encoded data removed]",
      "text/plain": [
       "<matplotlib.figure.Figure at 0x25a97dde780>"
      ]
     },
     "metadata": {},
     "output_type": "display_data"
    }
   ],
   "source": [
    "end = 1e-15\n",
    "x = np.linspace(-end, end)\n",
    "y = np.where(x==0, 1.0, np.log(1+x)/x)\n",
    "plt.xlabel('x', fontsize=20)\n",
    "plt.ylabel('f(x)', fontsize=20)\n",
    "plt.plot(x, y)"
   ]
  },
  {
   "cell_type": "markdown",
   "metadata": {},
   "source": [
    "**PROBLEM 1:** What happens if you decrease $x$ to magnitudes comparable to machine episilon?\n",
    "\n",
    "**ANSWER:** As shown above, it is likely that as we approach zero with such a small number such as $1e-15$, the machine is unable to process the difference between zero and our current value. As a result, the machine still treats the number as zero until it reaches a threshold where it can finally process the number as greater than zero."
   ]
  },
  {
   "cell_type": "markdown",
   "metadata": {},
   "source": [
    "#### PROBLEM 2: Write down the Taylor expansion for this function to 5th order while explicitly showing your calculations."
   ]
  },
  {
   "cell_type": "markdown",
   "metadata": {},
   "source": [
    "The Taylor expansion of a function $f(x)$ is given as \n",
    "\n",
    "$$f(x) = f(0) + f'(0)x + \\frac{f''(0)}{2!}x^2 + \\frac{f'''(0)}{3!}x^3 + ...  \\frac{f^{(n)}(0)}{n!}x^n + \\frac{f^{n+1}(0)}{(n+1)!}x^{n+1},$$\n",
    "\n",
    "Continuing from where we left off in class with the Taylor expansion, for the function:\n",
    "\n",
    "$$f(x) = \\log(1+x),$$ the derivatives are given as:\n",
    "\n",
    "$$f'(x) = \\frac{1}{1+x}$$\n",
    "$$f''(x) = -\\frac{1}{(1+x)^2}$$\n",
    "$$f'''(x) = \\frac{2}{(1+x)^3}$$\n",
    "$$f''''(x) = -\\frac{6}{(1+x)^4}$$\n",
    "\n",
    "We can now solve for the 5th derivative:\n",
    "\n",
    "$$f'''''(x) = \\frac{24}{(1+x)^5}$$\n",
    "\n",
    "With this information, we can now update the values when $x=0$:\n",
    "\n",
    "$$f(0) = 0$$\n",
    "$$f'(0) = 1$$\n",
    "$$f''(0) = -1$$\n",
    "$$f'''(0) = 2$$\n",
    "$$f''''(0) = -6$$\n",
    "$$f'''''(0) = 24$$\n",
    "\n",
    "We can also update the complete Taylor series $f(x)$ and our function $g(x)$:\n",
    "\n",
    "$$f(x) = \\log(1+x) = x - \\frac{x^2}{2} + \\frac{x^3}{3} - \\frac{x^4}{4} + \\frac{x^5}{5}$$\n",
    "\n",
    "and therefore..\n",
    "\n",
    "$$g(x) = \\frac{\\log(1+x)}{x} = 1 - \\frac{x}{2} + \\frac{x^2}{3} - \\frac{x^3}{4} + \\frac{x^4}{5}$$"
   ]
  },
  {
   "cell_type": "markdown",
   "metadata": {},
   "source": [
    "**PROBLEM 4:** Use the Taylor series expansion to calculate how big $x$ can be while maintaining an error of less than or equal to $10^{-16}$.\n",
    "\n",
    "**ANSWER:** With the new information provided above, we can now use the 5th order in our Taylor series to calculate the maximum value of error.\n",
    "\n",
    "$$T_5 = \\frac{x^4}{5}$$\n",
    "\n",
    "In order to solve for machine error i.e. $T_5 \\approx 10^{-16}$, we solve:\n",
    "\n",
    "$$\\frac{x^4}{5} = 10^{-16} \\, \\, \\, \\rightarrow \\, \\, \\, \\text{Multiply both sides by 5 and take the 4th root} \\, \\, \\,\n",
    "\\rightarrow \\, \\, \\, x \\approx 1.495 \\times 10^{-4}.$$\n",
    "\n",
    "Compared to using only 4th order Taylor series, the 5th order has higher accuracy to two more decimal places. With the 5th order, $x$ can be approximately $1.495 \\times 10^{-4}$ while maintaining an error of less than or equal to $10^{-16}.$\n"
   ]
  },
  {
   "cell_type": "markdown",
   "metadata": {},
   "source": [
    "**PROBLEM 3:** Compare the two versions of g(x) -- the Taylor expansion and the actual function. When is th expansion valid? When is it not valid? Why?"
   ]
  },
  {
   "cell_type": "code",
   "execution_count": 39,
   "metadata": {},
   "outputs": [
    {
     "name": "stderr",
     "output_type": "stream",
     "text": [
      "C:\\Users\\dcg47\\Anaconda3\\lib\\site-packages\\ipykernel_launcher.py:4: RuntimeWarning: invalid value encountered in true_divide\n",
      "  after removing the cwd from sys.path.\n"
     ]
    },
    {
     "data": {
      "text/plain": [
       "<matplotlib.legend.Legend at 0x25a980c6ac8>"
      ]
     },
     "execution_count": 39,
     "metadata": {},
     "output_type": "execute_result"
    },
    {
     "data": {
      "image/png": "[encoded data removed]",
      "text/plain": [
       "<matplotlib.figure.Figure at 0x25a97de4438>"
      ]
     },
     "metadata": {},
     "output_type": "display_data"
    }
   ],
   "source": [
    "plt.figure(figsize=(10, 6))\n",
    "end = 1e-15\n",
    "x = np.linspace(-end, end, 1001)\n",
    "y = np.where(x==0, 1.0, np.log(1+x)/x)\n",
    "z = 1 -x/2 + x*x/3 - x*x*x/4 + (x*x*x*x/5)\n",
    "plt.xlabel('x', fontsize=20)\n",
    "plt.ylabel('g(x)', fontsize=20)\n",
    "plt.plot(x, y, label= 'naive plotting')\n",
    "plt.plot(x, z, label = 'Taylor expansion')\n",
    "plt.legend()"
   ]
  },
  {
   "cell_type": "code",
   "execution_count": 40,
   "metadata": {},
   "outputs": [
    {
     "name": "stderr",
     "output_type": "stream",
     "text": [
      "C:\\Users\\dcg47\\Anaconda3\\lib\\site-packages\\ipykernel_launcher.py:4: RuntimeWarning: divide by zero encountered in log\n",
      "  after removing the cwd from sys.path.\n",
      "C:\\Users\\dcg47\\Anaconda3\\lib\\site-packages\\ipykernel_launcher.py:4: RuntimeWarning: invalid value encountered in true_divide\n",
      "  after removing the cwd from sys.path.\n"
     ]
    },
    {
     "data": {
      "text/plain": [
       "<matplotlib.legend.Legend at 0x25a98101940>"
      ]
     },
     "execution_count": 40,
     "metadata": {},
     "output_type": "execute_result"
    },
    {
     "data": {
      "image/png": "[encoded data removed]",
      "text/plain": [
       "<matplotlib.figure.Figure at 0x25a980efef0>"
      ]
     },
     "metadata": {},
     "output_type": "display_data"
    }
   ],
   "source": [
    "plt.figure(figsize=(10, 6))\n",
    "end = 1\n",
    "x = np.linspace(-end, end, 1001)\n",
    "y = np.where(x==0, 1.0, np.log(1+x)/x)\n",
    "z = 1 -x/2 + x*x/3 - x*x*x/4 + (x*x*x*x/5)\n",
    "plt.xlabel('x', fontsize=20)\n",
    "plt.ylabel('g(x)', fontsize=20)\n",
    "plt.plot(x, y, label= 'naive plotting')\n",
    "plt.plot(x, z, label = 'Taylor expansion')\n",
    "plt.legend()"
   ]
  },
  {
   "cell_type": "code",
   "execution_count": 41,
   "metadata": {},
   "outputs": [
    {
     "name": "stderr",
     "output_type": "stream",
     "text": [
      "C:\\Users\\dcg47\\Anaconda3\\lib\\site-packages\\ipykernel_launcher.py:4: RuntimeWarning: divide by zero encountered in log\n",
      "  after removing the cwd from sys.path.\n",
      "C:\\Users\\dcg47\\Anaconda3\\lib\\site-packages\\ipykernel_launcher.py:4: RuntimeWarning: invalid value encountered in log\n",
      "  after removing the cwd from sys.path.\n",
      "C:\\Users\\dcg47\\Anaconda3\\lib\\site-packages\\ipykernel_launcher.py:4: RuntimeWarning: invalid value encountered in true_divide\n",
      "  after removing the cwd from sys.path.\n"
     ]
    },
    {
     "data": {
      "text/plain": [
       "<matplotlib.legend.Legend at 0x25a981104e0>"
      ]
     },
     "execution_count": 41,
     "metadata": {},
     "output_type": "execute_result"
    },
    {
     "data": {
      "image/png": "[encoded data removed]",
      "text/plain": [
       "<matplotlib.figure.Figure at 0x25a9690ec50>"
      ]
     },
     "metadata": {},
     "output_type": "display_data"
    }
   ],
   "source": [
    "plt.figure(figsize=(10, 6))\n",
    "end = 10\n",
    "x = np.linspace(-end, end, 1001)\n",
    "y = np.where(x==0, 1.0, np.log(1+x)/x)\n",
    "z = 1 -x/2 + x*x/3 - x*x*x/4 + (x*x*x*x/5)\n",
    "plt.xlabel('x', fontsize=20)\n",
    "plt.ylabel('g(x)', fontsize=20)\n",
    "plt.plot(x, y, label= 'naive plotting')\n",
    "plt.plot(x, z, label = 'Taylor expansion')\n",
    "plt.legend()"
   ]
  },
  {
   "cell_type": "markdown",
   "metadata": {},
   "source": [
    "**ANSWER:** Observing the above three graphs we can see quite a few differences between the original function and our new Taylor series expansion. It would appear that the Taylor series expansion becomes more valid and hugs zero better than the normal function at smaller x values, but then diverts drastically outside of that range. In the most recent two graphs, just showing $end = 1$ and $end = 10$, we can already see that the Taylor series goes parabolic as $x \\rightarrow \\infty$. At higher values, the Taylor series becomes less valid since we do not require such a high order for the series."
   ]
  },
  {
   "cell_type": "markdown",
   "metadata": {},
   "source": [
    "## CONCLUSION"
   ]
  },
  {
   "cell_type": "markdown",
   "metadata": {},
   "source": [
    "Throughout this project, we have successfully learned different ways and shortcuts for identifying binary, decimal, and floating numbers, and have calculated unique machine-specific numbers such as machine epsilon and the largest floating point number that Python is capable of handing. Additionally, we successfully implemented built-in Python and imported NumPy functions and capabilities in order to graph our base function and Taylor series implementation of the same function, revealing to us both of their limitations, advantages and disadvantages in our pursuit of reducing machine error and loss of precision of numerical values. We are now able to recognize the significance of the Taylor series expansion, how it assists with very small values and its drawbacks with larger values."
   ]
  },
  {
   "cell_type": "markdown",
   "metadata": {},
   "source": [
    "## SOURCES\n",
    "\n",
    "https://www.h-schmidt.net/FloatConverter/IEEE754.html<br>\n",
    "https://www.rapidtables.com/convert/number/decimal-to-binary.html<br>\n",
    "https://www.calculatorsoup.com/calculators/math/scientific-notation-converter.php<br>\n",
    "Class Notes / Professor's Notes"
   ]
  }
 ],
 "metadata": {
  "kernelspec": {
   "display_name": "Python 3",
   "language": "python",
   "name": "python3"
  },
  "language_info": {
   "codemirror_mode": {
    "name": "ipython",
    "version": 3
   },
   "file_extension": ".py",
   "mimetype": "text/x-python",
   "name": "python",
   "nbconvert_exporter": "python",
   "pygments_lexer": "ipython3",
   "version": "3.6.3"
  }
 },
 "nbformat": 4,
 "nbformat_minor": 2
}
