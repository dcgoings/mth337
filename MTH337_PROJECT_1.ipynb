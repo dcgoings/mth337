{
 "cells": [
  {
   "cell_type": "markdown",
   "metadata": {},
   "source": [
    "**Daniel Goings<br>\n",
    "dcgoings@buffalo.edu<br>\n",
    "MTH337 Project 1 - Prime Numbers**"
   ]
  },
  {
   "cell_type": "code",
   "execution_count": 119,
   "metadata": {
    "collapsed": true
   },
   "outputs": [],
   "source": [
    "import math\n",
    "import operator\n",
    "import collections"
   ]
  },
  {
   "cell_type": "markdown",
   "metadata": {},
   "source": [
    "# PART 1"
   ]
  },
  {
   "cell_type": "markdown",
   "metadata": {},
   "source": [
    "The first function, **listPrimes**, accepts an integer *n* as the argument and returns all prime numbers that are smaller than *n* in a list. This function was implemented using the Sieve of Eratosthenes. \n",
    "\n",
    "To accomplish this, we first initiate a list of length *n*, all equal to *True*, and begin our for loop. The for loop looks for the first *True* value in the list, which indicates that number is prime, adds that number to our listOfPrimes, and finally sets all multiples of that number to *False* in the original list of all numbers."
   ]
  },
  {
   "cell_type": "code",
   "execution_count": 120,
   "metadata": {
    "collapsed": true
   },
   "outputs": [],
   "source": [
    "def listPrimes(n):\n",
    "    \n",
    "    #initialize a list of length n\n",
    "    allNums = n * [True]\n",
    "    \n",
    "    #initialize empty list for our found prime numbers\n",
    "    listOfPrimes = []\n",
    "\n",
    "    print(\"\\nlistPrimes returns all prime numbers less than the given input, n.\")\n",
    "    print(\"n = %s\" % n)\n",
    "    print(\"Therefore, we will return all prime numbers less than %s\\n\" % n)\n",
    "    \n",
    "    #for loop, from our starting prime number 2, up to n\n",
    "    for x in range (2, n):\n",
    "        \n",
    "        #if the number in list 'allNums' in position 'x' is set to 'True', that number is prime and we add to the list\n",
    "        if allNums[x] == True:\n",
    "            listOfPrimes.append(x)\n",
    "            \n",
    "            #we now set ALL multiples of 'x' to 'False' in 'allNums'\n",
    "            for y in range(x*2, n, x):\n",
    "                allNums[y] = False\n",
    "                \n",
    "    return (listOfPrimes)"
   ]
  },
  {
   "cell_type": "code",
   "execution_count": 121,
   "metadata": {},
   "outputs": [
    {
     "name": "stdout",
     "output_type": "stream",
     "text": [
      "\n",
      "listPrimes returns all prime numbers less than the given input, n.\n",
      "n = 21\n",
      "Therefore, we will return all prime numbers less than 21\n",
      "\n"
     ]
    },
    {
     "data": {
      "text/plain": [
       "[2, 3, 5, 7, 11, 13, 17, 19]"
      ]
     },
     "execution_count": 121,
     "metadata": {},
     "output_type": "execute_result"
    }
   ],
   "source": [
    "#testcase\n",
    "listPrimes(21)"
   ]
  },
  {
   "cell_type": "code",
   "execution_count": 122,
   "metadata": {},
   "outputs": [
    {
     "name": "stdout",
     "output_type": "stream",
     "text": [
      "\n",
      "listPrimes returns all prime numbers less than the given input, n.\n",
      "n = 62\n",
      "Therefore, we will return all prime numbers less than 62\n",
      "\n"
     ]
    },
    {
     "data": {
      "text/plain": [
       "[2, 3, 5, 7, 11, 13, 17, 19, 23, 29, 31, 37, 41, 43, 47, 53, 59, 61]"
      ]
     },
     "execution_count": 122,
     "metadata": {},
     "output_type": "execute_result"
    }
   ],
   "source": [
    "#testcase\n",
    "listPrimes(62)"
   ]
  },
  {
   "cell_type": "markdown",
   "metadata": {},
   "source": [
    "The second function, **nPrimes**, accepts an integer *n* as the argument and returns the first *n* prime numbers. This function was also implemented using the Sieve of Eratosthenes. \n",
    "\n",
    "To accomplish this, we use the same overall idea as in the first function with a few changes. Since we don't know what number to stop at when creating our initial list, we create a safety net and overestimate our goal. We can do this by creating a list equal to *n x 100*, and continue forth setting them all to *True*. We then break out of the loop once the length of *listOfPrimes* equals our *n* value.\n",
    "\n",
    "NOTE: I used *print(listOfPrimes)* because using *return(listOfPrimes)* caused the list to print out vertical and take 100x more page space\n"
   ]
  },
  {
   "cell_type": "code",
   "execution_count": 123,
   "metadata": {
    "collapsed": true
   },
   "outputs": [],
   "source": [
    "def nPrimes(n):\n",
    "\n",
    "    #initialize a list that overestimates how many numbers we need to reach the n'th prime number\n",
    "    length = n * 100\n",
    "    allNums = length * [True]\n",
    "    \n",
    "    #initialize empty list for our found prime numbers\n",
    "    listOfPrimes = []\n",
    "\n",
    "    print(\"\\nnPrimes returns the first n prime numbers.\")\n",
    "    print(\"n = %s\" % n)\n",
    "    print(\"Therefore, we will print the first %s prime numbers\\n\" % n)\n",
    "\n",
    "    #same Sieve idea as used above, except now we go with range(2, length) instead of range(2, n)\n",
    "    for x in range (2, length):\n",
    "        if allNums[x] == True:\n",
    "            listOfPrimes.append(x)\n",
    "            \n",
    "            #if the length of our list of primes equals n, we have found our answer!\n",
    "            if len(listOfPrimes) == n:\n",
    "                print (\"%s is the %s prime number!\\n\" % (x, n))\n",
    "                print (listOfPrimes)\n",
    "                \n",
    "            for y in range(x*2, length, x):\n",
    "                allNums[y] = False"
   ]
  },
  {
   "cell_type": "code",
   "execution_count": 124,
   "metadata": {},
   "outputs": [
    {
     "name": "stdout",
     "output_type": "stream",
     "text": [
      "\n",
      "nPrimes returns the first n prime numbers.\n",
      "n = 100\n",
      "Therefore, we will print the first 100 prime numbers\n",
      "\n",
      "541 is the 100 prime number!\n",
      "\n",
      "[2, 3, 5, 7, 11, 13, 17, 19, 23, 29, 31, 37, 41, 43, 47, 53, 59, 61, 67, 71, 73, 79, 83, 89, 97, 101, 103, 107, 109, 113, 127, 131, 137, 139, 149, 151, 157, 163, 167, 173, 179, 181, 191, 193, 197, 199, 211, 223, 227, 229, 233, 239, 241, 251, 257, 263, 269, 271, 277, 281, 283, 293, 307, 311, 313, 317, 331, 337, 347, 349, 353, 359, 367, 373, 379, 383, 389, 397, 401, 409, 419, 421, 431, 433, 439, 443, 449, 457, 461, 463, 467, 479, 487, 491, 499, 503, 509, 521, 523, 541]\n"
     ]
    }
   ],
   "source": [
    "#testcase\n",
    "nPrimes(100)"
   ]
  },
  {
   "cell_type": "markdown",
   "metadata": {},
   "source": [
    "# PART 2"
   ]
  },
  {
   "cell_type": "markdown",
   "metadata": {},
   "source": [
    "The first function in Part 2, **primeDivisors**, accepts an integer *n* as the argument and returns the prime divisors as the output in a list. \n",
    "\n",
    "To accomplish this, we can use some shortcuts. We know we can limit our range to the square root of our number *n*, since any divisor greater than the square root would already be found between 2 and the square root of *n*. We then iterate through all possible factors, checking whether *n mod factor* has a remainder of zero, re-assigning *n* as *n divided by the factor*, until we retrieve our prime divisors.\n"
   ]
  },
  {
   "cell_type": "code",
   "execution_count": 150,
   "metadata": {
    "collapsed": true
   },
   "outputs": [],
   "source": [
    "def primeDivisors(n):\n",
    "    print(\"Calculating the prime divisors for %s\" % n)\n",
    "    \n",
    "    #as stated above, this significantly reduces our time since any divisor greater than sqrt(n) will already be found\n",
    "    # '+ 1' is to account for smaller numbers such as 4 which would give us a problem otherwise\n",
    "    sq = math.sqrt(n) + 1\n",
    "    \n",
    "    #our starting factor\n",
    "    factor = 2\n",
    "    \n",
    "    #intiialize empty list of divisors\n",
    "    listOfDivisors = []\n",
    "\n",
    "    while factor < sq:\n",
    "        \n",
    "        #while n % factor has no remainder, re-assign n to new value,\n",
    "        #keep looping until the prime divisor is obtained (has a remainder), and append\n",
    "                \n",
    "        while n % factor == 0:\n",
    "            n = n / factor\n",
    "            listOfDivisors.append(factor)\n",
    "        \n",
    "        #current factor complete, check next factor\n",
    "        factor+=1\n",
    "        \n",
    "    #accounts for cases where the you have zero prime divisors (1 and itself), and\n",
    "    #when two prime divisors are found immediately (as with 21 (7*3))\n",
    "    if n > 1:\n",
    "        listOfDivisors.append(int(n))\n",
    "    return (listOfDivisors)\n"
   ]
  },
  {
   "cell_type": "code",
   "execution_count": 151,
   "metadata": {},
   "outputs": [
    {
     "name": "stdout",
     "output_type": "stream",
     "text": [
      "Calculating the prime divisors for 4\n"
     ]
    },
    {
     "data": {
      "text/plain": [
       "[2, 2]"
      ]
     },
     "execution_count": 151,
     "metadata": {},
     "output_type": "execute_result"
    }
   ],
   "source": [
    "#testcases\n",
    "primeDivisors(4)"
   ]
  },
  {
   "cell_type": "code",
   "execution_count": 152,
   "metadata": {},
   "outputs": [
    {
     "name": "stdout",
     "output_type": "stream",
     "text": [
      "Calculating the prime divisors for 18\n"
     ]
    },
    {
     "data": {
      "text/plain": [
       "[2, 3, 3]"
      ]
     },
     "execution_count": 152,
     "metadata": {},
     "output_type": "execute_result"
    }
   ],
   "source": [
    "primeDivisors(18)"
   ]
  },
  {
   "cell_type": "code",
   "execution_count": 153,
   "metadata": {},
   "outputs": [
    {
     "name": "stdout",
     "output_type": "stream",
     "text": [
      "Calculating the prime divisors for 21\n"
     ]
    },
    {
     "data": {
      "text/plain": [
       "[3, 7]"
      ]
     },
     "execution_count": 153,
     "metadata": {},
     "output_type": "execute_result"
    }
   ],
   "source": [
    "primeDivisors(21)"
   ]
  },
  {
   "cell_type": "code",
   "execution_count": 154,
   "metadata": {},
   "outputs": [
    {
     "name": "stdout",
     "output_type": "stream",
     "text": [
      "Calculating the prime divisors for 100\n"
     ]
    },
    {
     "data": {
      "text/plain": [
       "[2, 2, 5, 5]"
      ]
     },
     "execution_count": 154,
     "metadata": {},
     "output_type": "execute_result"
    }
   ],
   "source": [
    "primeDivisors(100)"
   ]
  },
  {
   "cell_type": "markdown",
   "metadata": {},
   "source": [
    "**BONUS:** The bonus function accepts an integer and returns two outputs, the first being a list of all unique prime divisors, and the second being a list of how many times each of those unique prime divisors occurs.\n",
    "\n",
    "Although there were multiple ways to do this, Python has a Counter function which does exactly that and returns as a dictionary (keys and values). We can then simply print which we want (keys or values) with type cast to list.\n",
    "\n",
    "**NOTE:** It appears this import is not compatible with Jupyter Notebook, however it does work in Atom (standalone editor)."
   ]
  },
  {
   "cell_type": "code",
   "execution_count": 155,
   "metadata": {
    "collapsed": true
   },
   "outputs": [],
   "source": [
    "def primeDivisorsUnique(n):\n",
    "    #we can save time by running our above function to retrieve our list of prime divisors\n",
    "    temp = primeDivisors(n)\n",
    "    print(temp)\n",
    "    \n",
    "    #run the imported collections.Counter function on our list\n",
    "    result = collections.Counter(temp)\n",
    "\n",
    "    #separate keys and vals\n",
    "    keys = list(result.keys())\n",
    "    vals = list(result.values())\n",
    "  \n",
    "    print(\"Divisors: = %s\" % keys)\n",
    "    print(\"Quantity: = %s\" % vals)"
   ]
  },
  {
   "cell_type": "code",
   "execution_count": 156,
   "metadata": {},
   "outputs": [
    {
     "name": "stdout",
     "output_type": "stream",
     "text": [
      "Calculating the prime divisors for 18\n",
      "[2, 3, 3]\n",
      "Divisors: = [2, 3]\n",
      "Quantity: = [1, 2]\n"
     ]
    }
   ],
   "source": [
    "primeDivisorsUnique(18)"
   ]
  },
  {
   "cell_type": "code",
   "execution_count": 157,
   "metadata": {},
   "outputs": [
    {
     "name": "stdout",
     "output_type": "stream",
     "text": [
      "Calculating the prime divisors for 100\n",
      "[2, 2, 5, 5]\n",
      "Divisors: = [2, 5]\n",
      "Quantity: = [2, 2]\n"
     ]
    }
   ],
   "source": [
    "primeDivisorsUnique(100)"
   ]
  },
  {
   "cell_type": "markdown",
   "metadata": {},
   "source": [
    "# PART 3"
   ]
  },
  {
   "cell_type": "markdown",
   "metadata": {},
   "source": [
    "In Part 3, using the information provided, we created a function that checks for congruency. This is done by utilizing the pow(a,b,c) function and comparing the answer to a % b."
   ]
  },
  {
   "cell_type": "code",
   "execution_count": 158,
   "metadata": {
    "collapsed": true
   },
   "outputs": [],
   "source": [
    "def isCongruent(n):\n",
    "    for x in range(1, n):\n",
    "        if pow(x, n, n) != x % n:\n",
    "            return False\n",
    "    return True"
   ]
  },
  {
   "cell_type": "markdown",
   "metadata": {},
   "source": [
    "The first function, *listPrimeLike*, is nearly the same as *listPrimes* except it returns all prime-like numbers less than *n* using the congruence relation check.\n",
    "\n",
    "For this function, we run a for loop from 2 to our *n* value, and if that number returns *True* for the isCongruent() function, it implies prime-like. "
   ]
  },
  {
   "cell_type": "code",
   "execution_count": 159,
   "metadata": {
    "collapsed": true
   },
   "outputs": [],
   "source": [
    "def listPrimeLike(n):\n",
    "    \n",
    "    #initialize empty list for primes\n",
    "    primeLikes = []\n",
    "    \n",
    "    #iterate up to our desired n value\n",
    "    for x in range(2, n):\n",
    "        \n",
    "        #check for congruency, if so, append to list\n",
    "        if isCongruent(x):\n",
    "            primeLikes.append(x)\n",
    "\n",
    "    print(primeLikes)"
   ]
  },
  {
   "cell_type": "code",
   "execution_count": 160,
   "metadata": {},
   "outputs": [
    {
     "name": "stdout",
     "output_type": "stream",
     "text": [
      "[2, 3, 5, 7, 11, 13, 17, 19, 23, 29, 31, 37, 41, 43, 47]\n"
     ]
    }
   ],
   "source": [
    "listPrimeLike(50)"
   ]
  },
  {
   "cell_type": "markdown",
   "metadata": {},
   "source": [
    "Similarly, the second function does the same as our nPrimes function, which returns the first *n* prime-like numbers. The overall function is identical to listPrimeLike, with the exception of our adjusted max range value and if statement to stop when the length of primeLikes has reached our desired number n of prime-like numbers."
   ]
  },
  {
   "cell_type": "code",
   "execution_count": 161,
   "metadata": {
    "collapsed": true
   },
   "outputs": [],
   "source": [
    "def nPrimeLike(n):\n",
    "    \n",
    "    #initialize empty list for primes\n",
    "    primeLikes = []\n",
    "\n",
    "    #iterate up to our desired n value, since we don't know, we overestimate by n*100\n",
    "    for x in range(2, (n*100)):\n",
    "        \n",
    "        #check for congruency, if so, append to list\n",
    "        if isCongruent(x):\n",
    "            primeLikes.append(x)\n",
    "    \n",
    "        #check if the length of primeLikes equals our desired number n\n",
    "        if len(primeLikes) == n:\n",
    "            print(primeLikes)\n",
    "            return\n",
    "\n",
    "    print(primeLikes)"
   ]
  },
  {
   "cell_type": "code",
   "execution_count": 162,
   "metadata": {},
   "outputs": [
    {
     "name": "stdout",
     "output_type": "stream",
     "text": [
      "[2, 3, 5, 7, 11, 13, 17, 19, 23, 29, 31, 37, 41, 43, 47, 53, 59, 61, 67, 71, 73, 79, 83, 89, 97, 101, 103, 107, 109, 113, 127, 131, 137, 139, 149, 151, 157, 163, 167, 173, 179, 181, 191, 193, 197, 199, 211, 223, 227, 229]\n"
     ]
    }
   ],
   "source": [
    "nPrimeLike(50)"
   ]
  },
  {
   "cell_type": "code",
   "execution_count": 163,
   "metadata": {},
   "outputs": [
    {
     "name": "stdout",
     "output_type": "stream",
     "text": [
      "[2, 3, 5, 7, 11, 13, 17, 19, 23, 29, 31, 37, 41, 43, 47, 53, 59, 61, 67, 71, 73, 79, 83, 89, 97, 101, 103, 107, 109, 113, 127, 131, 137, 139, 149, 151, 157, 163, 167, 173, 179, 181, 191, 193, 197, 199, 211, 223, 227, 229, 233, 239, 241, 251, 257, 263, 269, 271, 277, 281, 283, 293, 307, 311, 313, 317, 331, 337, 347, 349, 353, 359, 367, 373, 379, 383, 389, 397, 401, 409, 419, 421, 431, 433, 439, 443, 449, 457, 461, 463, 467, 479, 487, 491, 499, 503, 509, 521, 523, 541, 547, 557, 561, 563, 569, 571, 577, 587, 593, 599, 601, 607, 613, 617, 619, 631, 641, 643, 647, 653, 659, 661, 673, 677, 683, 691, 701, 709, 719, 727, 733, 739, 743, 751, 757, 761, 769, 773, 787, 797, 809, 811, 821, 823, 827, 829, 839, 853, 857, 859, 863, 877, 881, 883, 887, 907, 911, 919, 929, 937, 941, 947, 953, 967, 971, 977, 983, 991, 997, 1009, 1013, 1019, 1021, 1031, 1033, 1039, 1049, 1051, 1061, 1063, 1069, 1087, 1091, 1093, 1097, 1103, 1105, 1109, 1117, 1123, 1129, 1151, 1153, 1163, 1171, 1181, 1187, 1193, 1201, 1213]\n"
     ]
    }
   ],
   "source": [
    "nPrimeLike(200)"
   ]
  },
  {
   "cell_type": "code",
   "execution_count": 164,
   "metadata": {},
   "outputs": [
    {
     "name": "stdout",
     "output_type": "stream",
     "text": [
      "\n",
      "nPrimes returns the first n prime numbers.\n",
      "n = 200\n",
      "Therefore, we will print the first 200 prime numbers\n",
      "\n",
      "1223 is the 200 prime number!\n",
      "\n",
      "[2, 3, 5, 7, 11, 13, 17, 19, 23, 29, 31, 37, 41, 43, 47, 53, 59, 61, 67, 71, 73, 79, 83, 89, 97, 101, 103, 107, 109, 113, 127, 131, 137, 139, 149, 151, 157, 163, 167, 173, 179, 181, 191, 193, 197, 199, 211, 223, 227, 229, 233, 239, 241, 251, 257, 263, 269, 271, 277, 281, 283, 293, 307, 311, 313, 317, 331, 337, 347, 349, 353, 359, 367, 373, 379, 383, 389, 397, 401, 409, 419, 421, 431, 433, 439, 443, 449, 457, 461, 463, 467, 479, 487, 491, 499, 503, 509, 521, 523, 541, 547, 557, 563, 569, 571, 577, 587, 593, 599, 601, 607, 613, 617, 619, 631, 641, 643, 647, 653, 659, 661, 673, 677, 683, 691, 701, 709, 719, 727, 733, 739, 743, 751, 757, 761, 769, 773, 787, 797, 809, 811, 821, 823, 827, 829, 839, 853, 857, 859, 863, 877, 881, 883, 887, 907, 911, 919, 929, 937, 941, 947, 953, 967, 971, 977, 983, 991, 997, 1009, 1013, 1019, 1021, 1031, 1033, 1039, 1049, 1051, 1061, 1063, 1069, 1087, 1091, 1093, 1097, 1103, 1109, 1117, 1123, 1129, 1151, 1153, 1163, 1171, 1181, 1187, 1193, 1201, 1213, 1217, 1223]\n"
     ]
    }
   ],
   "source": [
    "nPrimes(200)"
   ]
  },
  {
   "cell_type": "markdown",
   "metadata": {},
   "source": [
    "Comparing the above two functions, we can see that two numbers show up in *nPrimeLike* that do not show up in *nPrimes*: 561 and 1105. We can conclude that these numbers actually satisfy and pass the congruency relation check, even though they are not prime numbers; hence, **\"prime-like\"**."
   ]
  }
 ],
 "metadata": {
  "kernelspec": {
   "display_name": "Python 3",
   "language": "python",
   "name": "python3"
  },
  "language_info": {
   "codemirror_mode": {
    "name": "ipython",
    "version": 3
   },
   "file_extension": ".py",
   "mimetype": "text/x-python",
   "name": "python",
   "nbconvert_exporter": "python",
   "pygments_lexer": "ipython3",
   "version": "3.6.3"
  }
 },
 "nbformat": 4,
 "nbformat_minor": 2
}
